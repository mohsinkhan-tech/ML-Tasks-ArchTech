{
  "nbformat": 4,
  "nbformat_minor": 0,
  "metadata": {
    "colab": {
      "provenance": []
    },
    "kernelspec": {
      "name": "python3",
      "display_name": "Python 3"
    },
    "language_info": {
      "name": "python"
    }
  },
  "cells": [
    {
      "cell_type": "code",
      "execution_count": 1,
      "metadata": {
        "colab": {
          "base_uri": "https://localhost:8080/",
          "height": 665
        },
        "id": "_uk4vddwIzwB",
        "outputId": "35a05745-3951-403c-f558-4daddfc680f6"
      },
      "outputs": [
        {
          "output_type": "stream",
          "name": "stdout",
          "text": [
            "Downloading data from https://storage.googleapis.com/tensorflow/tf-keras-datasets/mnist.npz\n",
            "\u001b[1m11490434/11490434\u001b[0m \u001b[32m━━━━━━━━━━━━━━━━━━━━\u001b[0m\u001b[37m\u001b[0m \u001b[1m0s\u001b[0m 0us/step\n"
          ]
        },
        {
          "output_type": "stream",
          "name": "stderr",
          "text": [
            "/usr/local/lib/python3.12/dist-packages/keras/src/layers/reshaping/flatten.py:37: UserWarning: Do not pass an `input_shape`/`input_dim` argument to a layer. When using Sequential models, prefer using an `Input(shape)` object as the first layer in the model instead.\n",
            "  super().__init__(**kwargs)\n"
          ]
        },
        {
          "output_type": "stream",
          "name": "stdout",
          "text": [
            "Epoch 1/5\n",
            "422/422 - 6s - 13ms/step - accuracy: 0.9010 - loss: 0.3489 - val_accuracy: 0.9615 - val_loss: 0.1462\n",
            "Epoch 2/5\n",
            "422/422 - 3s - 6ms/step - accuracy: 0.9588 - loss: 0.1423 - val_accuracy: 0.9705 - val_loss: 0.1044\n",
            "Epoch 3/5\n",
            "422/422 - 5s - 12ms/step - accuracy: 0.9718 - loss: 0.0968 - val_accuracy: 0.9750 - val_loss: 0.0867\n",
            "Epoch 4/5\n",
            "422/422 - 6s - 13ms/step - accuracy: 0.9785 - loss: 0.0734 - val_accuracy: 0.9753 - val_loss: 0.0864\n",
            "Epoch 5/5\n",
            "422/422 - 2s - 6ms/step - accuracy: 0.9829 - loss: 0.0581 - val_accuracy: 0.9715 - val_loss: 0.0968\n",
            "✅ Test Accuracy: 96.99%\n",
            "\u001b[1m1/1\u001b[0m \u001b[32m━━━━━━━━━━━━━━━━━━━━\u001b[0m\u001b[37m\u001b[0m \u001b[1m0s\u001b[0m 88ms/step\n"
          ]
        },
        {
          "output_type": "display_data",
          "data": {
            "text/plain": [
              "<Figure size 1200x400 with 10 Axes>"
            ],
            "image/png": "[encoded data removed]"
          },
          "metadata": {}
        }
      ],
      "source": [
        "# Task 2: MNIST Digit Recognition\n",
        "\n",
        "import numpy as np\n",
        "import matplotlib.pyplot as plt\n",
        "from tensorflow.keras.datasets import mnist\n",
        "from tensorflow.keras.utils import to_categorical\n",
        "from tensorflow.keras.models import Sequential\n",
        "from tensorflow.keras.layers import Dense, Flatten\n",
        "\n",
        "# Loading Dataset\n",
        "\n",
        "(X_train, y_train), (X_test, y_test) = mnist.load_data()\n",
        "\n",
        "# Preprocessing\n",
        "\n",
        "X_train = X_train / 255.0   # Normalize pixels (0-1)\n",
        "X_test = X_test / 255.0\n",
        "y_train = to_categorical(y_train, 10)  # One-hot encoding\n",
        "y_test = to_categorical(y_test, 10)\n",
        "\n",
        "# Build Model (MLP Neural Network)\n",
        "\n",
        "model = Sequential([\n",
        "    Flatten(input_shape=(28,28)),     # Flatten 28x28 → 784\n",
        "    Dense(128, activation='relu'),    # Hidden layer\n",
        "    Dense(64, activation='relu'),     # Hidden layer\n",
        "    Dense(10, activation='softmax')   # Output layer (10 digits)\n",
        "])\n",
        "\n",
        "model.compile(optimizer='adam', loss='categorical_crossentropy', metrics=['accuracy'])\n",
        "\n",
        "# Train Model\n",
        "\n",
        "history = model.fit(X_train, y_train, epochs=5, batch_size=128, validation_split=0.1, verbose=2)\n",
        "\n",
        "# Evaluate\n",
        "\n",
        "loss, acc = model.evaluate(X_test, y_test, verbose=0)\n",
        "print(f\"✅ Test Accuracy: {acc*100:.2f}%\")\n",
        "\n",
        "# Predict & Show Example\n",
        "\n",
        "predictions = model.predict(X_test[:10])\n",
        "plt.figure(figsize=(12,4))\n",
        "for i in range(10):\n",
        "    plt.subplot(2,5,i+1)\n",
        "    plt.imshow(X_test[i], cmap=\"gray\")\n",
        "    plt.title(f\"Pred: {np.argmax(predictions[i])}\")\n",
        "    plt.axis(\"off\")\n",
        "plt.show()\n"
      ]
    }
  ]
}